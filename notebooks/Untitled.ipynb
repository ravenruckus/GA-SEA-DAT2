{
 "cells": [
  {
   "cell_type": "code",
   "execution_count": 28,
   "metadata": {
    "collapsed": false
   },
   "outputs": [
    {
     "data": {
      "text/plain": [
       "(891, 11)"
      ]
     },
     "execution_count": 28,
     "metadata": {},
     "output_type": "execute_result"
    }
   ],
   "source": [
    "# read the Titanic data\n",
    "import pandas as pd\n",
    "path = '../data/'\n",
    "url = path + 'titanic.csv'\n",
    "titanic = pd.read_csv(url, index_col='PassengerId')\n",
    "titanic.shape"
   ]
  },
  {
   "cell_type": "code",
   "execution_count": 29,
   "metadata": {
    "collapsed": false
   },
   "outputs": [
    {
     "data": {
      "text/html": [
       "<div>\n",
       "<table border=\"1\" class=\"dataframe\">\n",
       "  <thead>\n",
       "    <tr style=\"text-align: right;\">\n",
       "      <th></th>\n",
       "      <th>Survived</th>\n",
       "      <th>Pclass</th>\n",
       "      <th>Name</th>\n",
       "      <th>Sex</th>\n",
       "      <th>Age</th>\n",
       "      <th>SibSp</th>\n",
       "      <th>Parch</th>\n",
       "      <th>Ticket</th>\n",
       "      <th>Fare</th>\n",
       "      <th>Cabin</th>\n",
       "      <th>Embarked</th>\n",
       "    </tr>\n",
       "    <tr>\n",
       "      <th>PassengerId</th>\n",
       "      <th></th>\n",
       "      <th></th>\n",
       "      <th></th>\n",
       "      <th></th>\n",
       "      <th></th>\n",
       "      <th></th>\n",
       "      <th></th>\n",
       "      <th></th>\n",
       "      <th></th>\n",
       "      <th></th>\n",
       "      <th></th>\n",
       "    </tr>\n",
       "  </thead>\n",
       "  <tbody>\n",
       "    <tr>\n",
       "      <th>1</th>\n",
       "      <td>0</td>\n",
       "      <td>3</td>\n",
       "      <td>Braund, Mr. Owen Harris</td>\n",
       "      <td>male</td>\n",
       "      <td>22</td>\n",
       "      <td>1</td>\n",
       "      <td>0</td>\n",
       "      <td>A/5 21171</td>\n",
       "      <td>7.2500</td>\n",
       "      <td>NaN</td>\n",
       "      <td>S</td>\n",
       "    </tr>\n",
       "    <tr>\n",
       "      <th>2</th>\n",
       "      <td>1</td>\n",
       "      <td>1</td>\n",
       "      <td>Cumings, Mrs. John Bradley (Florence Briggs Th...</td>\n",
       "      <td>female</td>\n",
       "      <td>38</td>\n",
       "      <td>1</td>\n",
       "      <td>0</td>\n",
       "      <td>PC 17599</td>\n",
       "      <td>71.2833</td>\n",
       "      <td>C85</td>\n",
       "      <td>C</td>\n",
       "    </tr>\n",
       "    <tr>\n",
       "      <th>3</th>\n",
       "      <td>1</td>\n",
       "      <td>3</td>\n",
       "      <td>Heikkinen, Miss. Laina</td>\n",
       "      <td>female</td>\n",
       "      <td>26</td>\n",
       "      <td>0</td>\n",
       "      <td>0</td>\n",
       "      <td>STON/O2. 3101282</td>\n",
       "      <td>7.9250</td>\n",
       "      <td>NaN</td>\n",
       "      <td>S</td>\n",
       "    </tr>\n",
       "    <tr>\n",
       "      <th>4</th>\n",
       "      <td>1</td>\n",
       "      <td>1</td>\n",
       "      <td>Futrelle, Mrs. Jacques Heath (Lily May Peel)</td>\n",
       "      <td>female</td>\n",
       "      <td>35</td>\n",
       "      <td>1</td>\n",
       "      <td>0</td>\n",
       "      <td>113803</td>\n",
       "      <td>53.1000</td>\n",
       "      <td>C123</td>\n",
       "      <td>S</td>\n",
       "    </tr>\n",
       "    <tr>\n",
       "      <th>5</th>\n",
       "      <td>0</td>\n",
       "      <td>3</td>\n",
       "      <td>Allen, Mr. William Henry</td>\n",
       "      <td>male</td>\n",
       "      <td>35</td>\n",
       "      <td>0</td>\n",
       "      <td>0</td>\n",
       "      <td>373450</td>\n",
       "      <td>8.0500</td>\n",
       "      <td>NaN</td>\n",
       "      <td>S</td>\n",
       "    </tr>\n",
       "  </tbody>\n",
       "</table>\n",
       "</div>"
      ],
      "text/plain": [
       "             Survived  Pclass  \\\n",
       "PassengerId                     \n",
       "1                   0       3   \n",
       "2                   1       1   \n",
       "3                   1       3   \n",
       "4                   1       1   \n",
       "5                   0       3   \n",
       "\n",
       "                                                          Name     Sex  Age  \\\n",
       "PassengerId                                                                   \n",
       "1                                      Braund, Mr. Owen Harris    male   22   \n",
       "2            Cumings, Mrs. John Bradley (Florence Briggs Th...  female   38   \n",
       "3                                       Heikkinen, Miss. Laina  female   26   \n",
       "4                 Futrelle, Mrs. Jacques Heath (Lily May Peel)  female   35   \n",
       "5                                     Allen, Mr. William Henry    male   35   \n",
       "\n",
       "             SibSp  Parch            Ticket     Fare Cabin Embarked  \n",
       "PassengerId                                                          \n",
       "1                1      0         A/5 21171   7.2500   NaN        S  \n",
       "2                1      0          PC 17599  71.2833   C85        C  \n",
       "3                0      0  STON/O2. 3101282   7.9250   NaN        S  \n",
       "4                1      0            113803  53.1000  C123        S  \n",
       "5                0      0            373450   8.0500   NaN        S  "
      ]
     },
     "execution_count": 29,
     "metadata": {},
     "output_type": "execute_result"
    }
   ],
   "source": [
    "titanic.head()"
   ]
  },
  {
   "cell_type": "code",
   "execution_count": 11,
   "metadata": {
    "collapsed": false
   },
   "outputs": [
    {
     "data": {
      "text/plain": [
       "array([[1, 0, 3, ..., 7.25, nan, 'S'],\n",
       "       [2, 1, 1, ..., 71.2833, 'C85', 'C'],\n",
       "       [3, 1, 3, ..., 7.925, nan, 'S'],\n",
       "       ..., \n",
       "       [889, 0, 3, ..., 23.45, nan, 'S'],\n",
       "       [890, 1, 1, ..., 30.0, 'C148', 'C'],\n",
       "       [891, 0, 3, ..., 7.75, nan, 'Q']], dtype=object)"
      ]
     },
     "execution_count": 11,
     "metadata": {},
     "output_type": "execute_result"
    }
   ],
   "source": [
    "titanic.values"
   ]
  },
  {
   "cell_type": "code",
   "execution_count": 12,
   "metadata": {
    "collapsed": false
   },
   "outputs": [
    {
     "data": {
      "text/plain": [
       "<bound method DataFrame.describe of      PassengerId  Survived  Pclass  \\\n",
       "Age                                  \n",
       " 22            1         0       3   \n",
       " 38            2         1       1   \n",
       " 26            3         1       3   \n",
       " 35            4         1       1   \n",
       " 35            5         0       3   \n",
       "NaN            6         0       3   \n",
       " 54            7         0       1   \n",
       " 2             8         0       3   \n",
       " 27            9         1       3   \n",
       " 14           10         1       2   \n",
       " 4            11         1       3   \n",
       " 58           12         1       1   \n",
       " 20           13         0       3   \n",
       " 39           14         0       3   \n",
       " 14           15         0       3   \n",
       " 55           16         1       2   \n",
       " 2            17         0       3   \n",
       "NaN           18         1       2   \n",
       " 31           19         0       3   \n",
       "NaN           20         1       3   \n",
       " 35           21         0       2   \n",
       " 34           22         1       2   \n",
       " 15           23         1       3   \n",
       " 28           24         1       1   \n",
       " 8            25         0       3   \n",
       " 38           26         1       3   \n",
       "NaN           27         0       3   \n",
       " 19           28         0       1   \n",
       "NaN           29         1       3   \n",
       "NaN           30         0       3   \n",
       "..           ...       ...     ...   \n",
       " 21          862         0       2   \n",
       " 48          863         1       1   \n",
       "NaN          864         0       3   \n",
       " 24          865         0       2   \n",
       " 42          866         1       2   \n",
       " 27          867         1       2   \n",
       " 31          868         0       1   \n",
       "NaN          869         0       3   \n",
       " 4           870         1       3   \n",
       " 26          871         0       3   \n",
       " 47          872         1       1   \n",
       " 33          873         0       1   \n",
       " 47          874         0       3   \n",
       " 28          875         1       2   \n",
       " 15          876         1       3   \n",
       " 20          877         0       3   \n",
       " 19          878         0       3   \n",
       "NaN          879         0       3   \n",
       " 56          880         1       1   \n",
       " 25          881         1       2   \n",
       " 33          882         0       3   \n",
       " 22          883         0       3   \n",
       " 28          884         0       2   \n",
       " 25          885         0       3   \n",
       " 39          886         0       3   \n",
       " 27          887         0       2   \n",
       " 19          888         1       1   \n",
       "NaN          889         0       3   \n",
       " 26          890         1       1   \n",
       " 32          891         0       3   \n",
       "\n",
       "                                                  Name     Sex  SibSp  Parch  \\\n",
       "Age                                                                            \n",
       " 22                            Braund, Mr. Owen Harris    male      1      0   \n",
       " 38  Cumings, Mrs. John Bradley (Florence Briggs Th...  female      1      0   \n",
       " 26                             Heikkinen, Miss. Laina  female      0      0   \n",
       " 35       Futrelle, Mrs. Jacques Heath (Lily May Peel)  female      1      0   \n",
       " 35                           Allen, Mr. William Henry    male      0      0   \n",
       "NaN                                   Moran, Mr. James    male      0      0   \n",
       " 54                            McCarthy, Mr. Timothy J    male      0      0   \n",
       " 2                      Palsson, Master. Gosta Leonard    male      3      1   \n",
       " 27  Johnson, Mrs. Oscar W (Elisabeth Vilhelmina Berg)  female      0      2   \n",
       " 14                Nasser, Mrs. Nicholas (Adele Achem)  female      1      0   \n",
       " 4                     Sandstrom, Miss. Marguerite Rut  female      1      1   \n",
       " 58                           Bonnell, Miss. Elizabeth  female      0      0   \n",
       " 20                     Saundercock, Mr. William Henry    male      0      0   \n",
       " 39                        Andersson, Mr. Anders Johan    male      1      5   \n",
       " 14               Vestrom, Miss. Hulda Amanda Adolfina  female      0      0   \n",
       " 55                   Hewlett, Mrs. (Mary D Kingcome)   female      0      0   \n",
       " 2                                Rice, Master. Eugene    male      4      1   \n",
       "NaN                       Williams, Mr. Charles Eugene    male      0      0   \n",
       " 31  Vander Planke, Mrs. Julius (Emelia Maria Vande...  female      1      0   \n",
       "NaN                            Masselmani, Mrs. Fatima  female      0      0   \n",
       " 35                               Fynney, Mr. Joseph J    male      0      0   \n",
       " 34                              Beesley, Mr. Lawrence    male      0      0   \n",
       " 15                        McGowan, Miss. Anna \"Annie\"  female      0      0   \n",
       " 28                       Sloper, Mr. William Thompson    male      0      0   \n",
       " 8                       Palsson, Miss. Torborg Danira  female      3      1   \n",
       " 38  Asplund, Mrs. Carl Oscar (Selma Augusta Emilia...  female      1      5   \n",
       "NaN                            Emir, Mr. Farred Chehab    male      0      0   \n",
       " 19                     Fortune, Mr. Charles Alexander    male      3      2   \n",
       "NaN                      O'Dwyer, Miss. Ellen \"Nellie\"  female      0      0   \n",
       "NaN                                Todoroff, Mr. Lalio    male      0      0   \n",
       "..                                                 ...     ...    ...    ...   \n",
       " 21                        Giles, Mr. Frederick Edward    male      1      0   \n",
       " 48  Swift, Mrs. Frederick Joel (Margaret Welles Ba...  female      0      0   \n",
       "NaN                  Sage, Miss. Dorothy Edith \"Dolly\"  female      8      2   \n",
       " 24                             Gill, Mr. John William    male      0      0   \n",
       " 42                           Bystrom, Mrs. (Karolina)  female      0      0   \n",
       " 27                       Duran y More, Miss. Asuncion  female      1      0   \n",
       " 31               Roebling, Mr. Washington Augustus II    male      0      0   \n",
       "NaN                        van Melkebeke, Mr. Philemon    male      0      0   \n",
       " 4                     Johnson, Master. Harold Theodor    male      1      1   \n",
       " 26                                  Balkic, Mr. Cerin    male      0      0   \n",
       " 47   Beckwith, Mrs. Richard Leonard (Sallie Monypeny)  female      1      1   \n",
       " 33                           Carlsson, Mr. Frans Olof    male      0      0   \n",
       " 47                        Vander Cruyssen, Mr. Victor    male      0      0   \n",
       " 28              Abelson, Mrs. Samuel (Hannah Wizosky)  female      1      0   \n",
       " 15                   Najib, Miss. Adele Kiamie \"Jane\"  female      0      0   \n",
       " 20                      Gustafsson, Mr. Alfred Ossian    male      0      0   \n",
       " 19                               Petroff, Mr. Nedelio    male      0      0   \n",
       "NaN                                 Laleff, Mr. Kristo    male      0      0   \n",
       " 56      Potter, Mrs. Thomas Jr (Lily Alexenia Wilson)  female      0      1   \n",
       " 25       Shelley, Mrs. William (Imanita Parrish Hall)  female      0      1   \n",
       " 33                                 Markun, Mr. Johann    male      0      0   \n",
       " 22                       Dahlberg, Miss. Gerda Ulrika  female      0      0   \n",
       " 28                      Banfield, Mr. Frederick James    male      0      0   \n",
       " 25                             Sutehall, Mr. Henry Jr    male      0      0   \n",
       " 39               Rice, Mrs. William (Margaret Norton)  female      0      5   \n",
       " 27                              Montvila, Rev. Juozas    male      0      0   \n",
       " 19                       Graham, Miss. Margaret Edith  female      0      0   \n",
       "NaN           Johnston, Miss. Catherine Helen \"Carrie\"  female      1      2   \n",
       " 26                              Behr, Mr. Karl Howell    male      0      0   \n",
       " 32                                Dooley, Mr. Patrick    male      0      0   \n",
       "\n",
       "               Ticket      Fare        Cabin Embarked  \n",
       "Age                                                    \n",
       " 22         A/5 21171    7.2500          NaN        S  \n",
       " 38          PC 17599   71.2833          C85        C  \n",
       " 26  STON/O2. 3101282    7.9250          NaN        S  \n",
       " 35            113803   53.1000         C123        S  \n",
       " 35            373450    8.0500          NaN        S  \n",
       "NaN            330877    8.4583          NaN        Q  \n",
       " 54             17463   51.8625          E46        S  \n",
       " 2             349909   21.0750          NaN        S  \n",
       " 27            347742   11.1333          NaN        S  \n",
       " 14            237736   30.0708          NaN        C  \n",
       " 4            PP 9549   16.7000           G6        S  \n",
       " 58            113783   26.5500         C103        S  \n",
       " 20         A/5. 2151    8.0500          NaN        S  \n",
       " 39            347082   31.2750          NaN        S  \n",
       " 14            350406    7.8542          NaN        S  \n",
       " 55            248706   16.0000          NaN        S  \n",
       " 2             382652   29.1250          NaN        Q  \n",
       "NaN            244373   13.0000          NaN        S  \n",
       " 31            345763   18.0000          NaN        S  \n",
       "NaN              2649    7.2250          NaN        C  \n",
       " 35            239865   26.0000          NaN        S  \n",
       " 34            248698   13.0000          D56        S  \n",
       " 15            330923    8.0292          NaN        Q  \n",
       " 28            113788   35.5000           A6        S  \n",
       " 8             349909   21.0750          NaN        S  \n",
       " 38            347077   31.3875          NaN        S  \n",
       "NaN              2631    7.2250          NaN        C  \n",
       " 19             19950  263.0000  C23 C25 C27        S  \n",
       "NaN            330959    7.8792          NaN        Q  \n",
       "NaN            349216    7.8958          NaN        S  \n",
       "..                ...       ...          ...      ...  \n",
       " 21             28134   11.5000          NaN        S  \n",
       " 48             17466   25.9292          D17        S  \n",
       "NaN          CA. 2343   69.5500          NaN        S  \n",
       " 24            233866   13.0000          NaN        S  \n",
       " 42            236852   13.0000          NaN        S  \n",
       " 27     SC/PARIS 2149   13.8583          NaN        C  \n",
       " 31          PC 17590   50.4958          A24        S  \n",
       "NaN            345777    9.5000          NaN        S  \n",
       " 4             347742   11.1333          NaN        S  \n",
       " 26            349248    7.8958          NaN        S  \n",
       " 47             11751   52.5542          D35        S  \n",
       " 33               695    5.0000  B51 B53 B55        S  \n",
       " 47            345765    9.0000          NaN        S  \n",
       " 28         P/PP 3381   24.0000          NaN        C  \n",
       " 15              2667    7.2250          NaN        C  \n",
       " 20              7534    9.8458          NaN        S  \n",
       " 19            349212    7.8958          NaN        S  \n",
       "NaN            349217    7.8958          NaN        S  \n",
       " 56             11767   83.1583          C50        C  \n",
       " 25            230433   26.0000          NaN        S  \n",
       " 33            349257    7.8958          NaN        S  \n",
       " 22              7552   10.5167          NaN        S  \n",
       " 28  C.A./SOTON 34068   10.5000          NaN        S  \n",
       " 25   SOTON/OQ 392076    7.0500          NaN        S  \n",
       " 39            382652   29.1250          NaN        Q  \n",
       " 27            211536   13.0000          NaN        S  \n",
       " 19            112053   30.0000          B42        S  \n",
       "NaN        W./C. 6607   23.4500          NaN        S  \n",
       " 26            111369   30.0000         C148        C  \n",
       " 32            370376    7.7500          NaN        Q  \n",
       "\n",
       "[891 rows x 11 columns]>"
      ]
     },
     "execution_count": 12,
     "metadata": {},
     "output_type": "execute_result"
    }
   ],
   "source": [
    "titanic.describe"
   ]
  },
  {
   "cell_type": "code",
   "execution_count": 30,
   "metadata": {
    "collapsed": false
   },
   "outputs": [
    {
     "data": {
      "text/plain": [
       "Survived     0.383838\n",
       "Pclass       2.308642\n",
       "Age         29.699118\n",
       "SibSp        0.523008\n",
       "Parch        0.381594\n",
       "Fare        32.204208\n",
       "dtype: float64"
      ]
     },
     "execution_count": 30,
     "metadata": {},
     "output_type": "execute_result"
    }
   ],
   "source": [
    "titanic.mean()"
   ]
  },
  {
   "cell_type": "code",
   "execution_count": 31,
   "metadata": {
    "collapsed": true
   },
   "outputs": [],
   "source": [
    "age = titanic.Age"
   ]
  },
  {
   "cell_type": "code",
   "execution_count": 32,
   "metadata": {
    "collapsed": false
   },
   "outputs": [
    {
     "data": {
      "text/plain": [
       "29.69911764705882"
      ]
     },
     "execution_count": 32,
     "metadata": {},
     "output_type": "execute_result"
    }
   ],
   "source": [
    "age.mean()"
   ]
  },
  {
   "cell_type": "code",
   "execution_count": null,
   "metadata": {
    "collapsed": true
   },
   "outputs": [],
   "source": []
  }
 ],
 "metadata": {
  "kernelspec": {
   "display_name": "Python 2",
   "language": "python",
   "name": "python2"
  },
  "language_info": {
   "codemirror_mode": {
    "name": "ipython",
    "version": 2
   },
   "file_extension": ".py",
   "mimetype": "text/x-python",
   "name": "python",
   "nbconvert_exporter": "python",
   "pygments_lexer": "ipython2",
   "version": "2.7.11"
  }
 },
 "nbformat": 4,
 "nbformat_minor": 0
}
